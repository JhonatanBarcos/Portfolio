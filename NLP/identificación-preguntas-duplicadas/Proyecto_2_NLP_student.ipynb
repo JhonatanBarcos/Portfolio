{
  "cells": [
    {
      "cell_type": "markdown",
      "metadata": {
        "id": "sWd_SPzRQy5u"
      },
      "source": [
        "# Proyecto 2: Detección de preguntas duplicadas\n",
        "\n",
        "### Procesado del Lenguaje Natural\n",
        "\n",
        "**Pablo Martínez Olmos, Angel Navia Vázquez**\n",
        "\n",
        "  * 1.1 (January 2025) Revised and updated version\n",
        "\n",
        "Departamento de Teoría de la Señal y Comunicaciones\n",
        "\n",
        "**Universidad Carlos III de Madrid**\n",
        "\n",
        "<img src='http://www.tsc.uc3m.es/~navia/figures/logo_uc3m_foot.jpg' width=400 />"
      ]
    },
    {
      "cell_type": "markdown",
      "source": [
        "AUTOR(ES): **escribir aquí el nombre o nombres de los autores (apellidos, nombre)**\n",
        "\n",
        "- Barcos Gambaro, Jhonatan\n",
        "\n"
      ],
      "metadata": {
        "id": "rRSEPpI_TOOP"
      }
    },
    {
      "cell_type": "markdown",
      "metadata": {
        "id": "WACg3HfWQy5y"
      },
      "source": [
        "En este segundo proyecto vamos a practicar con las parametrizaciones de palabras y textos que hemos visto durante el curso y las aplicaremos al problema de encontrar preguntas duplicadas en una base de datos real ([Quora Question Pairs](https://www.kaggle.com/c/quora-question-pairs/data))."
      ]
    },
    {
      "cell_type": "markdown",
      "metadata": {
        "id": "b2UTvgyxQy57"
      },
      "source": [
        "En este proyecto, **deberemos** utilizar **tres métodos distintos** para vectorizar cada una de las 10.000 preguntas:\n",
        "\n",
        "- **TF-IDF** (elija las opciones que considere más adecuadas).\n",
        "\n",
        "- **LSA** a partir del TF-IDF anterior (elija las opciones que considere más adecuadas).\n",
        "\n",
        "- **Text embedding** de cada pregunta (elija las opciones que considere más adecuadas).\n",
        "\n",
        "Para cada uno de estos tres métodos, determinar la fracción de casos (\"accuracy\") en los que la pregunta duplicada **se encuentra entre los K vecinos más cercanos**. Dibuje dicha \"accuracy\" en función de $K$, para $K=1,\\ldots,10$.\n",
        "\n",
        "A continuación se proporciona un código base sobre el que hay que añadir las partes ausentes, marcadas con ``<INSERTAR CODIGO>``.\n",
        "\n",
        "**IMPORTANTE, no modificar o eliminar el código proporcionado, el notebook debe ejecutar sin error y los resultados mostrados en pantalla y las gráficas deben ser los indicados.**\n",
        "\n",
        "Los datos se proporcionan en el fichero **\"QUORA_DUPLICATES_10000.csv\"**, en el que la primera columna es el texto de la pregunta, y en la segunda columna hay un identificador para localizar preguntas duplicadas (para cada identificador, hay dos frases que se consideran equivalentes o duplicadas).\n"
      ]
    },
    {
      "cell_type": "code",
      "execution_count": 1,
      "metadata": {
        "id": "Dv0MUf2nQy59"
      },
      "outputs": [],
      "source": [
        "import time\n",
        "t_ini = time.time()\n",
        "\n",
        "# Importe las demás librerías necesarias\n",
        "import time\n",
        "import numpy as np\n",
        "import pandas as pd\n",
        "import matplotlib.pyplot as plt\n",
        "\n",
        "import spacy\n",
        "\n",
        "from sklearn.feature_extraction.text import TfidfVectorizer\n",
        "from sklearn.decomposition import TruncatedSVD\n",
        "from sklearn.metrics.pairwise import cosine_similarity\n",
        "from sklearn.neighbors import NearestNeighbors\n",
        "\n",
        "from scipy import sparse"
      ]
    },
    {
      "cell_type": "code",
      "source": [
        "# Cargamos los datos\n",
        "from google.colab import drive\n",
        "drive.mount(\"/content/drive\")\n",
        "MYDRIVE=\"/content/drive/MyDrive/2_CUATRI/NLP/LAB2/\""
      ],
      "metadata": {
        "colab": {
          "base_uri": "https://localhost:8080/"
        },
        "id": "c0R_-krigJef",
        "outputId": "b997669e-28c1-49b3-fe49-7f7035da941a"
      },
      "execution_count": 2,
      "outputs": [
        {
          "output_type": "stream",
          "name": "stdout",
          "text": [
            "Drive already mounted at /content/drive; to attempt to forcibly remount, call drive.mount(\"/content/drive\", force_remount=True).\n"
          ]
        }
      ]
    },
    {
      "cell_type": "code",
      "source": [
        "# Cargamos el dataset desde Drive\n",
        "df = pd.read_csv(MYDRIVE + \"QUORA_DUPLICATES_10000.csv\")"
      ],
      "metadata": {
        "id": "0zuCHdl5gbmp"
      },
      "execution_count": 3,
      "outputs": []
    },
    {
      "cell_type": "code",
      "source": [
        "#\n",
        "preguntas = df.iloc[:, 0].tolist()\n",
        "ids = df.iloc[:, 1].tolist()\n",
        "#\n",
        "\n",
        "print(\"Leídas {} preguntas con {} identificadores diferentes.\".format(len(preguntas), len(set(ids))))"
      ],
      "metadata": {
        "id": "agskFh26TmYM",
        "colab": {
          "base_uri": "https://localhost:8080/"
        },
        "outputId": "ed37a51d-0831-433b-c1cd-d1f3e0fb01c7"
      },
      "execution_count": 4,
      "outputs": [
        {
          "output_type": "stream",
          "name": "stdout",
          "text": [
            "Leídas 9999 preguntas con 5000 identificadores diferentes.\n"
          ]
        }
      ]
    },
    {
      "cell_type": "code",
      "source": [
        "print('Ejemplo de dos preguntas duplicadas\\n')\n",
        "id_elegido = 136\n",
        "\n",
        "# Posiciones en la lista de las dos preguntas con mismo id_elegido\n",
        "pos = [i for i, id in enumerate(ids) if id == id_elegido]\n",
        "\n",
        "if ids[pos[0]] == ids[pos[1]]:\n",
        "  print(\"La búsqueda ha sido exitosa. \\n\\nLa pregunta más parecida a:\\n\")\n",
        "  print('-'*50)\n",
        "  print(preguntas[pos[0]])\n",
        "  print('-'*50)\n",
        "\n",
        "  print(\"\\nEs la pregunta:\\n\")\n",
        "  print('-'*50)\n",
        "  print(preguntas[pos[1]])\n",
        "  print('-'*50)\n",
        "else:\n",
        "  print('#'*50)\n",
        "  print(\"ERROR: los identificadores no coinciden.\")\n",
        "  print('#'*50)\n"
      ],
      "metadata": {
        "id": "631He1d7TqV8",
        "colab": {
          "base_uri": "https://localhost:8080/"
        },
        "outputId": "d4e78c01-9938-4f7f-b6aa-f65988d36796"
      },
      "execution_count": 5,
      "outputs": [
        {
          "output_type": "stream",
          "name": "stdout",
          "text": [
            "Ejemplo de dos preguntas duplicadas\n",
            "\n",
            "La búsqueda ha sido exitosa. \n",
            "\n",
            "La pregunta más parecida a:\n",
            "\n",
            "--------------------------------------------------\n",
            "What are the requirements for selection into MIT?\n",
            "--------------------------------------------------\n",
            "\n",
            "Es la pregunta:\n",
            "\n",
            "--------------------------------------------------\n",
            "How can I get entry in MIT?\n",
            "--------------------------------------------------\n"
          ]
        }
      ]
    },
    {
      "cell_type": "markdown",
      "source": [
        "# 0. PREPROCESSING"
      ],
      "metadata": {
        "id": "oUCPa7HA47Or"
      }
    },
    {
      "cell_type": "code",
      "source": [
        "# Creamos la función de preprocesamiento adaptando la función limpiar_texto() del Notebook 2 con el diccionario inglés\n",
        "nlp = spacy.load(\"en_core_web_md\")\n",
        "\n",
        "def limpiar_texto(textos):\n",
        "    textos_limpios = []\n",
        "    for doc in nlp.pipe(textos):\n",
        "        tokens = [token.lemma_.lower() for token in doc if not token.is_stop and not token.is_punct and token.is_alpha]\n",
        "        textos_limpios.append(\" \".join(tokens))\n",
        "    return textos_limpios\n"
      ],
      "metadata": {
        "id": "1c0V7jRDx935"
      },
      "execution_count": 6,
      "outputs": []
    },
    {
      "cell_type": "code",
      "source": [
        "# Preprocesamos las preguntas a través de la función definida anteriormente\n",
        "preguntas_cleaned = limpiar_texto(preguntas)\n",
        "\n",
        "# Visualizamos un ejemplo\n",
        "ejemplo_idx = 42\n",
        "\n",
        "print(\"Pregunta original:\")\n",
        "print(preguntas[ejemplo_idx])\n",
        "print(\"\\nPregunta preprocesada:\")\n",
        "print(preguntas_cleaned[ejemplo_idx])\n"
      ],
      "metadata": {
        "colab": {
          "base_uri": "https://localhost:8080/"
        },
        "id": "_oCHOi0vylYB",
        "outputId": "0d3641c3-2a22-4ba8-824e-f70dc82aed0b"
      },
      "execution_count": 7,
      "outputs": [
        {
          "output_type": "stream",
          "name": "stdout",
          "text": [
            "Pregunta original:\n",
            "Does green tea really help in losing weight?\n",
            "\n",
            "Pregunta preprocesada:\n",
            "green tea help lose weight\n"
          ]
        }
      ]
    },
    {
      "cell_type": "code",
      "source": [
        "# Estos vectores, de longitud 10, almacenan las accuracies de cada método para diferente número de vecinos, desde 1 a 10.\n",
        "TFIDF_accuracies = []\n",
        "LSA_accuracies = []\n",
        "Embedd_accuracies = []\n",
        "\n",
        "k_range = list(range(1, 11))  # [1, 2, 3, ..., 10]"
      ],
      "metadata": {
        "id": "yZDg9fK8Vps2"
      },
      "execution_count": 8,
      "outputs": []
    },
    {
      "cell_type": "code",
      "source": [
        "Embedd_accuracies = []"
      ],
      "metadata": {
        "id": "1iwGJVB4Cv50"
      },
      "execution_count": 9,
      "outputs": []
    },
    {
      "cell_type": "code",
      "source": [
        "# Definimos una función auxiliar para hallar la accuracy de cada método expuesto a  continuación\n",
        "def calcular_accuracy(indices, ids, k_max=10):\n",
        "    accuracies = []\n",
        "    for k in range(1, k_max + 1):\n",
        "        aciertos = 0\n",
        "        for i in range(len(ids)):\n",
        "            vecinos = indices[i][1:k+1]\n",
        "            if any(ids[j] == ids[i] and j != i for j in vecinos):\n",
        "                aciertos += 1\n",
        "        accuracies.append(aciertos / len(ids))\n",
        "    return accuracies\n"
      ],
      "metadata": {
        "id": "wh_lngLW5aC-"
      },
      "execution_count": 10,
      "outputs": []
    },
    {
      "cell_type": "markdown",
      "source": [
        "# 1. TF-IDF\n"
      ],
      "metadata": {
        "id": "bXnJ87je4wH8"
      }
    },
    {
      "cell_type": "code",
      "source": [
        "# Realizamos la vectorización Tf-Idf\n",
        "vectorizer_tfidf = TfidfVectorizer(\n",
        "    min_df=5,\n",
        "    max_df=0.8,\n",
        "    max_features=10000,\n",
        "    ngram_range=(1, 2),\n",
        "    sublinear_tf=True\n",
        ")\n",
        "\n",
        "X_tfidf = vectorizer_tfidf.fit_transform(preguntas_cleaned)\n"
      ],
      "metadata": {
        "id": "gCCu1v1Y2FLe"
      },
      "execution_count": 11,
      "outputs": []
    },
    {
      "cell_type": "code",
      "source": [
        "#Normalizamos nuestra matriz dispersa generada con Tf-Idf a través de está función adaptada del Notebook 3\n",
        "def normalize_sparse_vector(s):\n",
        "    norm_s = np.array(np.sqrt(s.multiply(s).sum(1)))\n",
        "    norm_s[norm_s == 0] = 1\n",
        "    return s.multiply(sparse.csr_matrix(1 / norm_s))\n",
        "\n",
        "X_tfidf_norm = normalize_sparse_vector(X_tfidf)"
      ],
      "metadata": {
        "id": "Nw3yUafT3DaC"
      },
      "execution_count": 12,
      "outputs": []
    },
    {
      "cell_type": "code",
      "source": [
        "# Utilizamos KNN para hallar los vecinos más cercanos y detectar preguntas duplicadas\n",
        "knn = NearestNeighbors(n_neighbors=11, metric='euclidean')\n",
        "knn.fit(X_tfidf_norm)\n",
        "\n",
        "distancias, indices_tfidf = knn.kneighbors(X_tfidf_norm)\n",
        "\n",
        "# Hallamos las accuracies\n",
        "TFIDF_accuracies = calcular_accuracy(indices_tfidf, ids, k_max=10)"
      ],
      "metadata": {
        "id": "8aZ7YwY13ayq"
      },
      "execution_count": 13,
      "outputs": []
    },
    {
      "cell_type": "markdown",
      "source": [
        "# 2. LSA\n"
      ],
      "metadata": {
        "id": "aY-avTOU4z41"
      }
    },
    {
      "cell_type": "code",
      "source": [
        "# A continuación aplicamos LSA (Trucated SVD) a la transformación Tf-Idf anterior\n",
        "n_components = 100\n",
        "lsa = TruncatedSVD(n_components, random_state=42)\n",
        "lsa_matrix = lsa.fit_transform(X_tfidf)\n",
        "\n",
        "# Utilizamos KNN para hallar los vecinos más cercanos y detectar preguntas duplicadas\n",
        "nbrs_lsa = NearestNeighbors(n_neighbors=11, metric='cosine').fit(lsa_matrix)\n",
        "_, indices_lsa = nbrs_lsa.kneighbors(lsa_matrix)\n",
        "\n",
        "# Hallamos las accuracies\n",
        "LSA_accuracies = calcular_accuracy(indices_lsa, ids, k_max=10)\n"
      ],
      "metadata": {
        "id": "ISNb91YYhcRV"
      },
      "execution_count": 14,
      "outputs": []
    },
    {
      "cell_type": "markdown",
      "source": [
        "# 3. EMBEDDINGS"
      ],
      "metadata": {
        "id": "TYO20ndi42IO"
      }
    },
    {
      "cell_type": "code",
      "source": [
        "# Realizamos un nuevo procesamiento de las preguntas sin limpiar con spacy\n",
        "docs_spacy = list(nlp.pipe(preguntas, disable=[\"ner\", \"parser\"]))\n",
        "\n",
        "# Extraemos los vectores (embeddings por documento)\n",
        "X_embed = np.array([doc.vector for doc in docs_spacy])\n",
        "\n",
        "# Vecinos más cercanos usando distancia euclídea\n",
        "knn_embed = NearestNeighbors(n_neighbors=11, metric='euclidean')\n",
        "knn_embed.fit(X_embed)\n",
        "_, indices_embed = knn_embed.kneighbors(X_embed)\n",
        "\n",
        "# Calculamos accuracy@K\n",
        "Embedd_accuracies = calcular_accuracy(indices_embed, ids, k_max=10)"
      ],
      "metadata": {
        "id": "luW_vGc_7iqi"
      },
      "execution_count": 15,
      "outputs": []
    },
    {
      "cell_type": "code",
      "source": [
        "plt.plot(k_range, TFIDF_accuracies, label=\"TF-IDF\")\n",
        "plt.plot(k_range, LSA_accuracies, label=\"LSA\")\n",
        "plt.plot(k_range, Embedd_accuracies, label=\"Word Embeddings\")\n",
        "plt.xlabel(\"No. vecinos\")\n",
        "plt.ylabel(\"% de casos correctos\")\n",
        "plt.legend()\n",
        "plt.grid()\n",
        "plt.show()\n",
        "\n",
        "print(\"\\nEl tiempo de ejecución ha sido de {} minutos.\\n\".format((time.time() - t_ini)/60))\n",
        "\n",
        "promedios = [np.mean(TFIDF_accuracies), np.mean(LSA_accuracies), np.mean(Embedd_accuracies)]\n",
        "\n",
        "print(\"\\nLa accuracy promedio para cada método es:\")\n",
        "print(promedios)\n",
        "\n",
        "print(\"\\nLa accuracy de encontrar la frase más cercana (1 vecino), para cada método es:\")\n",
        "print(TFIDF_accuracies[0], LSA_accuracies[0], Embedd_accuracies[0])\n",
        "\n",
        "print(\"\\nY el mejor resultado promedio es:\")\n",
        "print(np.max(promedios))"
      ],
      "metadata": {
        "id": "8alh1oxHCKBA",
        "colab": {
          "base_uri": "https://localhost:8080/",
          "height": 666
        },
        "outputId": "9603b975-0586-4554-9318-60c5ebb09e9f"
      },
      "execution_count": 16,
      "outputs": [
        {
          "output_type": "display_data",
          "data": {
            "text/plain": [
              "<Figure size 640x480 with 1 Axes>"
            ],
            "image/png": "[encoded data removed]"
          },
          "metadata": {}
        },
        {
          "output_type": "stream",
          "name": "stdout",
          "text": [
            "\n",
            "El tiempo de ejecución ha sido de 1.4187421480814615 minutos.\n",
            "\n",
            "\n",
            "La accuracy promedio para cada método es:\n",
            "[np.float64(0.5186518651865187), np.float64(0.39017901790179016), np.float64(0.5384238423842385)]\n",
            "\n",
            "La accuracy de encontrar la frase más cercana (1 vecino), para cada método es:\n",
            "0.3262326232623262 0.25152515251525154 0.37113711371137115\n",
            "\n",
            "Y el mejor resultado promedio es:\n",
            "0.5384238423842385\n"
          ]
        }
      ]
    }
  ],
  "metadata": {
    "kernelspec": {
      "display_name": "Python 3 (ipykernel)",
      "language": "python",
      "name": "python3"
    },
    "language_info": {
      "codemirror_mode": {
        "name": "ipython",
        "version": 3
      },
      "file_extension": ".py",
      "mimetype": "text/x-python",
      "name": "python",
      "nbconvert_exporter": "python",
      "pygments_lexer": "ipython3",
      "version": "3.9.7"
    },
    "colab": {
      "provenance": []
    }
  },
  "nbformat": 4,
  "nbformat_minor": 0
}