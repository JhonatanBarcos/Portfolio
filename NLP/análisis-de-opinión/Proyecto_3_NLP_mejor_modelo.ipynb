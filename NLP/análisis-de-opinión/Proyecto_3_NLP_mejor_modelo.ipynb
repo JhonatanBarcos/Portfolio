{
  "cells": [
    {
      "cell_type": "markdown",
      "metadata": {
        "id": "sWd_SPzRQy5u"
      },
      "source": [
        "<img src='http://www.tsc.uc3m.es/~navia/figures/logo_uc3m_foot.jpg' width=800 />\n",
        "\n",
        "# Proyecto 3: Análisis de opinión\n",
        "\n",
        "### Procesado del Lenguaje Natural\n",
        "\n",
        "**Angel Navia Vázquez**\n",
        "\n",
        "  * 1.1 (January 2025) Revised and updated version\n",
        "\n",
        "Departamento de Teoría de la Señal y Comunicaciones\n",
        "\n",
        "**Universidad Carlos III de Madrid**\n"
      ]
    },
    {
      "cell_type": "markdown",
      "metadata": {
        "id": "WACg3HfWQy5y"
      },
      "source": [
        "Este notebook debe **cargar el modelo elegido preentrenado** y **calcular las prestaciones en el conjunto de validación** (las prestaciones finales se calcularán sobre el conjunto de test no proporcionado). El tiempo de\n",
        "clasificación debe ser inferior a 5 minutos y el AUC superior a 0.7.\n",
        "\n",
        "**NO se deben entrenar modelos en este notebook**, solamente utilizar modelos previamente entrenados y almacenados.\n"
      ]
    },
    {
      "cell_type": "code",
      "source": [
        "# Importar aquí las librerías necesarias\n",
        "import pandas as pd\n",
        "import joblib\n",
        "import time\n",
        "from sklearn.metrics import roc_auc_score\n"
      ],
      "metadata": {
        "id": "EHjvzz9Fbvce"
      },
      "execution_count": 1,
      "outputs": []
    },
    {
      "cell_type": "code",
      "source": [
        "# Vinculamos DRIVE para importar datos\n",
        "from google.colab import drive\n",
        "drive.mount(\"/content/drive\")\n",
        "MYDRIVE=\"/content/drive/MyDrive/2_CUATRI/NLP/LAB3/\""
      ],
      "metadata": {
        "colab": {
          "base_uri": "https://localhost:8080/"
        },
        "id": "MuP0h-wi9quJ",
        "outputId": "60ab6d1f-f768-468f-8287-3583618634f7"
      },
      "execution_count": 2,
      "outputs": [
        {
          "output_type": "stream",
          "name": "stdout",
          "text": [
            "Drive already mounted at /content/drive; to attempt to forcibly remount, call drive.mount(\"/content/drive\", force_remount=True).\n"
          ]
        }
      ]
    },
    {
      "cell_type": "code",
      "source": [
        "# Cargar los datos de validación proporcionados\n",
        "# NOTA: cualquier procesado de los datos debe realizarse en la sección final de predicción, pues el tiempo de procesado debe contar como tiempo de predicción.\n",
        "val_data = pd.read_csv(MYDRIVE + 'data_project_NLP_3_val.csv')\n",
        "X_val = val_data['texto']\n",
        "y_val = val_data['opinion']\n"
      ],
      "metadata": {
        "id": "tyhCbqO5boXG"
      },
      "execution_count": 7,
      "outputs": []
    },
    {
      "cell_type": "code",
      "source": [
        "# Cargar el mejor modelo ya entrenado\n",
        "modelo = joblib.load(MYDRIVE + 'modelo_ganador.pkl')\n",
        "vectorizador = joblib.load(MYDRIVE + 'vectorizador_modelo_ganador.pkl')\n"
      ],
      "metadata": {
        "id": "av9I7545cAzz"
      },
      "execution_count": 8,
      "outputs": []
    },
    {
      "cell_type": "code",
      "source": [
        "import time\n",
        "t_ini = time.time()\n",
        "\n",
        "# Procesar los datos para su uso por el modelo\n",
        "X_val_vect = vectorizador.transform(X_val)\n",
        "\n",
        "# Realizar las predicciones\n",
        "preds = modelo.predict_proba(X_val_vect)[:, 1]\n",
        "\n",
        "# Calcular AUC\n",
        "AUC = roc_auc_score(y_val, preds)\n",
        "\n",
        "print(f'AUC = {AUC}')\n",
        "print(\"Tiempo de clasificación en minutos = {:.4f}\".format((time.time() - t_ini) / 60))\n"
      ],
      "metadata": {
        "colab": {
          "base_uri": "https://localhost:8080/"
        },
        "id": "xebkSqdn9hGI",
        "outputId": "17c7fc62-6d64-459d-966d-46dd91de76a7"
      },
      "execution_count": 9,
      "outputs": [
        {
          "output_type": "stream",
          "name": "stdout",
          "text": [
            "AUC = 0.9122805964355143\n",
            "Tiempo de clasificación en minutos = 0.0919\n"
          ]
        }
      ]
    }
  ],
  "metadata": {
    "kernelspec": {
      "display_name": "Python 3 (ipykernel)",
      "language": "python",
      "name": "python3"
    },
    "language_info": {
      "codemirror_mode": {
        "name": "ipython",
        "version": 3
      },
      "file_extension": ".py",
      "mimetype": "text/x-python",
      "name": "python",
      "nbconvert_exporter": "python",
      "pygments_lexer": "ipython3",
      "version": "3.9.7"
    },
    "colab": {
      "provenance": []
    }
  },
  "nbformat": 4,
  "nbformat_minor": 0
}